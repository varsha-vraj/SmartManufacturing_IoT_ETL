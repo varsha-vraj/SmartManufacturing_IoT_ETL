{
 "cells": [
  {
   "cell_type": "code",
   "execution_count": 0,
   "metadata": {
    "application/vnd.databricks.v1+cell": {
     "cellMetadata": {
      "byteLimit": 2048000,
      "rowLimit": 10000
     },
     "inputWidgets": {},
     "nuid": "4a702885-194b-4e84-8883-7d05c69b416d",
     "showTitle": false,
     "tableResultSettingsMap": {},
     "title": ""
    }
   },
   "outputs": [],
   "source": [
    "# --- Step 1: Imports ---\n",
    "import json\n",
    "from pyspark.sql import Row\n",
    "\n",
    "# --- Step 2: Parameters ---\n",
    "plants = [\"Plant_A\", \"Plant_B\", \"Plant_C\"]\n",
    "process_date = \"2025-08-15\"\n",
    "etl_notebook_path = \"/Workspace/Users/traininguser2@sudosu.ai/ETL_IoT_Param1\"  # replace with your notebook path\n",
    "\n",
    "# --- Step 3: Run ETL for all plants ---\n",
    "all_results = []\n",
    "\n",
    "for plant in plants:\n",
    "    print(f\"Running ETL for {plant} on {process_date}\")\n",
    "    \n",
    "    res_json = dbutils.notebook.run(\n",
    "        etl_notebook_path,  # ETL notebook path\n",
    "        600,                # timeout in seconds\n",
    "        {\"plant_id\": plant, \"process_date\": process_date}\n",
    "    )\n",
    "    \n",
    "    # Convert JSON string to Python list\n",
    "    res_list = json.loads(res_json)\n",
    "    all_results.extend(res_list)\n",
    "\n",
    "# --- Step 4: Display consolidated results ---\n",
    "print(\"ETL Run Results for All Plants:\")\n",
    "for r in all_results:\n",
    "    print(r)\n",
    "\n",
    "# --- Step 5: Create a summary DataFrame for reporting ---\n",
    "df_summary = spark.createDataFrame([Row(**r) for r in all_results])\n",
    "display(df_summary)\n",
    "\n",
    "# --- Step 6: (Optional) Save summary to Silver layer ---\n",
    "summary_path = f\"/mnt/iotdata/silver/iot_summary/dt={process_date}/\"\n",
    "df_summary.write.mode(\"overwrite\").parquet(summary_path)\n",
    "print(f\"Summary saved to: {summary_path}\")\n",
    "\n",
    "# --- Step 7: Return JSON for higher orchestration pipelines ---\n",
    "dbutils.notebook.exit(json.dumps(all_results))\n"
   ]
  },
  {
   "cell_type": "code",
   "execution_count": 0,
   "metadata": {
    "application/vnd.databricks.v1+cell": {
     "cellMetadata": {
      "byteLimit": 2048000,
      "rowLimit": 10000
     },
     "inputWidgets": {},
     "nuid": "687747e1-2809-4e5e-b3d6-166f59de46a7",
     "showTitle": false,
     "tableResultSettingsMap": {},
     "title": ""
    }
   },
   "outputs": [
    {
     "output_type": "display_data",
     "data": {
      "text/html": [
       "<style scoped>\n",
       "  .table-result-container {\n",
       "    max-height: 300px;\n",
       "    overflow: auto;\n",
       "  }\n",
       "  table, th, td {\n",
       "    border: 1px solid black;\n",
       "    border-collapse: collapse;\n",
       "  }\n",
       "  th, td {\n",
       "    padding: 5px;\n",
       "  }\n",
       "  th {\n",
       "    text-align: left;\n",
       "  }\n",
       "</style><div class='table-result-container'><table class='table-result'><thead style='background-color: white'><tr><th>path</th><th>name</th><th>size</th><th>modificationTime</th></tr></thead><tbody><tr><td>dbfs:/mnt/iotdata/silver/iot/plant=Plant_A/dt=2025-08-15/_committed_1637465319607662895</td><td>_committed_1637465319607662895</td><td>223</td><td>1755341949000</td></tr><tr><td>dbfs:/mnt/iotdata/silver/iot/plant=Plant_A/dt=2025-08-15/_committed_4033004347475685786</td><td>_committed_4033004347475685786</td><td>223</td><td>1755341780000</td></tr><tr><td>dbfs:/mnt/iotdata/silver/iot/plant=Plant_A/dt=2025-08-15/_committed_4278546574901321824</td><td>_committed_4278546574901321824</td><td>124</td><td>1755339808000</td></tr><tr><td>dbfs:/mnt/iotdata/silver/iot/plant=Plant_A/dt=2025-08-15/_committed_4368076583855241613</td><td>_committed_4368076583855241613</td><td>234</td><td>1755339909000</td></tr><tr><td>dbfs:/mnt/iotdata/silver/iot/plant=Plant_A/dt=2025-08-15/_committed_6368223244654217731</td><td>_committed_6368223244654217731</td><td>223</td><td>1755340230000</td></tr><tr><td>dbfs:/mnt/iotdata/silver/iot/plant=Plant_A/dt=2025-08-15/_committed_vacuum6338860636732723862</td><td>_committed_vacuum6338860636732723862</td><td>96</td><td>1755341781000</td></tr><tr><td>dbfs:/mnt/iotdata/silver/iot/plant=Plant_A/dt=2025-08-15/_started_1637465319607662895</td><td>_started_1637465319607662895</td><td>0</td><td>1755341949000</td></tr><tr><td>dbfs:/mnt/iotdata/silver/iot/plant=Plant_A/dt=2025-08-15/_started_4033004347475685786</td><td>_started_4033004347475685786</td><td>0</td><td>1755341780000</td></tr><tr><td>dbfs:/mnt/iotdata/silver/iot/plant=Plant_A/dt=2025-08-15/_started_6368223244654217731</td><td>_started_6368223244654217731</td><td>0</td><td>1755340230000</td></tr><tr><td>dbfs:/mnt/iotdata/silver/iot/plant=Plant_A/dt=2025-08-15/part-00000-tid-1637465319607662895-e84bce69-d3f1-48bd-a6e3-868db3c21051-375-1.c000.snappy.parquet</td><td>part-00000-tid-1637465319607662895-e84bce69-d3f1-48bd-a6e3-868db3c21051-375-1.c000.snappy.parquet</td><td>21297</td><td>1755341949000</td></tr></tbody></table></div>"
      ]
     },
     "metadata": {
      "application/vnd.databricks.v1+output": {
       "addedWidgets": {},
       "aggData": [],
       "aggError": "",
       "aggOverflow": false,
       "aggSchema": [],
       "aggSeriesLimitReached": false,
       "aggType": "",
       "arguments": {},
       "columnCustomDisplayInfos": {},
       "data": [
        [
         "dbfs:/mnt/iotdata/silver/iot/plant=Plant_A/dt=2025-08-15/_committed_1637465319607662895",
         "_committed_1637465319607662895",
         223,
         1755341949000
        ],
        [
         "dbfs:/mnt/iotdata/silver/iot/plant=Plant_A/dt=2025-08-15/_committed_4033004347475685786",
         "_committed_4033004347475685786",
         223,
         1755341780000
        ],
        [
         "dbfs:/mnt/iotdata/silver/iot/plant=Plant_A/dt=2025-08-15/_committed_4278546574901321824",
         "_committed_4278546574901321824",
         124,
         1755339808000
        ],
        [
         "dbfs:/mnt/iotdata/silver/iot/plant=Plant_A/dt=2025-08-15/_committed_4368076583855241613",
         "_committed_4368076583855241613",
         234,
         1755339909000
        ],
        [
         "dbfs:/mnt/iotdata/silver/iot/plant=Plant_A/dt=2025-08-15/_committed_6368223244654217731",
         "_committed_6368223244654217731",
         223,
         1755340230000
        ],
        [
         "dbfs:/mnt/iotdata/silver/iot/plant=Plant_A/dt=2025-08-15/_committed_vacuum6338860636732723862",
         "_committed_vacuum6338860636732723862",
         96,
         1755341781000
        ],
        [
         "dbfs:/mnt/iotdata/silver/iot/plant=Plant_A/dt=2025-08-15/_started_1637465319607662895",
         "_started_1637465319607662895",
         0,
         1755341949000
        ],
        [
         "dbfs:/mnt/iotdata/silver/iot/plant=Plant_A/dt=2025-08-15/_started_4033004347475685786",
         "_started_4033004347475685786",
         0,
         1755341780000
        ],
        [
         "dbfs:/mnt/iotdata/silver/iot/plant=Plant_A/dt=2025-08-15/_started_6368223244654217731",
         "_started_6368223244654217731",
         0,
         1755340230000
        ],
        [
         "dbfs:/mnt/iotdata/silver/iot/plant=Plant_A/dt=2025-08-15/part-00000-tid-1637465319607662895-e84bce69-d3f1-48bd-a6e3-868db3c21051-375-1.c000.snappy.parquet",
         "part-00000-tid-1637465319607662895-e84bce69-d3f1-48bd-a6e3-868db3c21051-375-1.c000.snappy.parquet",
         21297,
         1755341949000
        ]
       ],
       "datasetInfos": [],
       "dbfsResultPath": null,
       "isJsonSchema": true,
       "metadata": {},
       "overflow": false,
       "plotOptions": {
        "customPlotOptions": {},
        "displayType": "table",
        "pivotAggregation": null,
        "pivotColumns": null,
        "xColumns": null,
        "yColumns": null
       },
       "removedWidgets": [],
       "schema": [
        {
         "metadata": "{}",
         "name": "path",
         "type": "\"string\""
        },
        {
         "metadata": "{}",
         "name": "name",
         "type": "\"string\""
        },
        {
         "metadata": "{}",
         "name": "size",
         "type": "\"long\""
        },
        {
         "metadata": "{}",
         "name": "modificationTime",
         "type": "\"long\""
        }
       ],
       "type": "table"
      }
     },
     "output_type": "display_data"
    },
    {
     "output_type": "display_data",
     "data": {
      "text/html": [
       "<style scoped>\n",
       "  .table-result-container {\n",
       "    max-height: 300px;\n",
       "    overflow: auto;\n",
       "  }\n",
       "  table, th, td {\n",
       "    border: 1px solid black;\n",
       "    border-collapse: collapse;\n",
       "  }\n",
       "  th, td {\n",
       "    padding: 5px;\n",
       "  }\n",
       "  th {\n",
       "    text-align: left;\n",
       "  }\n",
       "</style><div class='table-result-container'><table class='table-result'><thead style='background-color: white'><tr><th>path</th><th>name</th><th>size</th><th>modificationTime</th></tr></thead><tbody><tr><td>dbfs:/mnt/iotdata/silver/iot/plant=Plant_B/dt=2025-08-15/_committed_281176797421352451</td><td>_committed_281176797421352451</td><td>222</td><td>1755341990000</td></tr><tr><td>dbfs:/mnt/iotdata/silver/iot/plant=Plant_B/dt=2025-08-15/_committed_3311672925538252474</td><td>_committed_3311672925538252474</td><td>223</td><td>1755341783000</td></tr><tr><td>dbfs:/mnt/iotdata/silver/iot/plant=Plant_B/dt=2025-08-15/_committed_5147824680366724893</td><td>_committed_5147824680366724893</td><td>124</td><td>1755339812000</td></tr><tr><td>dbfs:/mnt/iotdata/silver/iot/plant=Plant_B/dt=2025-08-15/_committed_5609639880946659308</td><td>_committed_5609639880946659308</td><td>234</td><td>1755339913000</td></tr><tr><td>dbfs:/mnt/iotdata/silver/iot/plant=Plant_B/dt=2025-08-15/_committed_6171057090982529891</td><td>_committed_6171057090982529891</td><td>223</td><td>1755340271000</td></tr><tr><td>dbfs:/mnt/iotdata/silver/iot/plant=Plant_B/dt=2025-08-15/_committed_vacuum3790795301459323809</td><td>_committed_vacuum3790795301459323809</td><td>96</td><td>1755341784000</td></tr><tr><td>dbfs:/mnt/iotdata/silver/iot/plant=Plant_B/dt=2025-08-15/_started_281176797421352451</td><td>_started_281176797421352451</td><td>0</td><td>1755341990000</td></tr><tr><td>dbfs:/mnt/iotdata/silver/iot/plant=Plant_B/dt=2025-08-15/_started_3311672925538252474</td><td>_started_3311672925538252474</td><td>0</td><td>1755341783000</td></tr><tr><td>dbfs:/mnt/iotdata/silver/iot/plant=Plant_B/dt=2025-08-15/_started_6171057090982529891</td><td>_started_6171057090982529891</td><td>0</td><td>1755340270000</td></tr><tr><td>dbfs:/mnt/iotdata/silver/iot/plant=Plant_B/dt=2025-08-15/part-00000-tid-281176797421352451-b3e80cc3-de66-4f94-966a-5f71dc8d6970-390-1.c000.snappy.parquet</td><td>part-00000-tid-281176797421352451-b3e80cc3-de66-4f94-966a-5f71dc8d6970-390-1.c000.snappy.parquet</td><td>21298</td><td>1755341990000</td></tr></tbody></table></div>"
      ]
     },
     "metadata": {
      "application/vnd.databricks.v1+output": {
       "addedWidgets": {},
       "aggData": [],
       "aggError": "",
       "aggOverflow": false,
       "aggSchema": [],
       "aggSeriesLimitReached": false,
       "aggType": "",
       "arguments": {},
       "columnCustomDisplayInfos": {},
       "data": [
        [
         "dbfs:/mnt/iotdata/silver/iot/plant=Plant_B/dt=2025-08-15/_committed_281176797421352451",
         "_committed_281176797421352451",
         222,
         1755341990000
        ],
        [
         "dbfs:/mnt/iotdata/silver/iot/plant=Plant_B/dt=2025-08-15/_committed_3311672925538252474",
         "_committed_3311672925538252474",
         223,
         1755341783000
        ],
        [
         "dbfs:/mnt/iotdata/silver/iot/plant=Plant_B/dt=2025-08-15/_committed_5147824680366724893",
         "_committed_5147824680366724893",
         124,
         1755339812000
        ],
        [
         "dbfs:/mnt/iotdata/silver/iot/plant=Plant_B/dt=2025-08-15/_committed_5609639880946659308",
         "_committed_5609639880946659308",
         234,
         1755339913000
        ],
        [
         "dbfs:/mnt/iotdata/silver/iot/plant=Plant_B/dt=2025-08-15/_committed_6171057090982529891",
         "_committed_6171057090982529891",
         223,
         1755340271000
        ],
        [
         "dbfs:/mnt/iotdata/silver/iot/plant=Plant_B/dt=2025-08-15/_committed_vacuum3790795301459323809",
         "_committed_vacuum3790795301459323809",
         96,
         1755341784000
        ],
        [
         "dbfs:/mnt/iotdata/silver/iot/plant=Plant_B/dt=2025-08-15/_started_281176797421352451",
         "_started_281176797421352451",
         0,
         1755341990000
        ],
        [
         "dbfs:/mnt/iotdata/silver/iot/plant=Plant_B/dt=2025-08-15/_started_3311672925538252474",
         "_started_3311672925538252474",
         0,
         1755341783000
        ],
        [
         "dbfs:/mnt/iotdata/silver/iot/plant=Plant_B/dt=2025-08-15/_started_6171057090982529891",
         "_started_6171057090982529891",
         0,
         1755340270000
        ],
        [
         "dbfs:/mnt/iotdata/silver/iot/plant=Plant_B/dt=2025-08-15/part-00000-tid-281176797421352451-b3e80cc3-de66-4f94-966a-5f71dc8d6970-390-1.c000.snappy.parquet",
         "part-00000-tid-281176797421352451-b3e80cc3-de66-4f94-966a-5f71dc8d6970-390-1.c000.snappy.parquet",
         21298,
         1755341990000
        ]
       ],
       "datasetInfos": [],
       "dbfsResultPath": null,
       "isJsonSchema": true,
       "metadata": {},
       "overflow": false,
       "plotOptions": {
        "customPlotOptions": {},
        "displayType": "table",
        "pivotAggregation": null,
        "pivotColumns": null,
        "xColumns": null,
        "yColumns": null
       },
       "removedWidgets": [],
       "schema": [
        {
         "metadata": "{}",
         "name": "path",
         "type": "\"string\""
        },
        {
         "metadata": "{}",
         "name": "name",
         "type": "\"string\""
        },
        {
         "metadata": "{}",
         "name": "size",
         "type": "\"long\""
        },
        {
         "metadata": "{}",
         "name": "modificationTime",
         "type": "\"long\""
        }
       ],
       "type": "table"
      }
     },
     "output_type": "display_data"
    },
    {
     "output_type": "display_data",
     "data": {
      "text/html": [
       "<style scoped>\n",
       "  .table-result-container {\n",
       "    max-height: 300px;\n",
       "    overflow: auto;\n",
       "  }\n",
       "  table, th, td {\n",
       "    border: 1px solid black;\n",
       "    border-collapse: collapse;\n",
       "  }\n",
       "  th, td {\n",
       "    padding: 5px;\n",
       "  }\n",
       "  th {\n",
       "    text-align: left;\n",
       "  }\n",
       "</style><div class='table-result-container'><table class='table-result'><thead style='background-color: white'><tr><th>path</th><th>name</th><th>size</th><th>modificationTime</th></tr></thead><tbody><tr><td>dbfs:/mnt/iotdata/silver/iot/plant=Plant_C/dt=2025-08-15/_committed_1869934475823979280</td><td>_committed_1869934475823979280</td><td>223</td><td>1755340312000</td></tr><tr><td>dbfs:/mnt/iotdata/silver/iot/plant=Plant_C/dt=2025-08-15/_committed_2499514057032222283</td><td>_committed_2499514057032222283</td><td>223</td><td>1755341786000</td></tr><tr><td>dbfs:/mnt/iotdata/silver/iot/plant=Plant_C/dt=2025-08-15/_committed_5459709384608630161</td><td>_committed_5459709384608630161</td><td>223</td><td>1755342032000</td></tr><tr><td>dbfs:/mnt/iotdata/silver/iot/plant=Plant_C/dt=2025-08-15/_committed_8401774407964408766</td><td>_committed_8401774407964408766</td><td>234</td><td>1755339916000</td></tr><tr><td>dbfs:/mnt/iotdata/silver/iot/plant=Plant_C/dt=2025-08-15/_committed_9102331302863157054</td><td>_committed_9102331302863157054</td><td>124</td><td>1755339815000</td></tr><tr><td>dbfs:/mnt/iotdata/silver/iot/plant=Plant_C/dt=2025-08-15/_committed_vacuum1821132262432269882</td><td>_committed_vacuum1821132262432269882</td><td>96</td><td>1755341787000</td></tr><tr><td>dbfs:/mnt/iotdata/silver/iot/plant=Plant_C/dt=2025-08-15/_started_1869934475823979280</td><td>_started_1869934475823979280</td><td>0</td><td>1755340312000</td></tr><tr><td>dbfs:/mnt/iotdata/silver/iot/plant=Plant_C/dt=2025-08-15/_started_2499514057032222283</td><td>_started_2499514057032222283</td><td>0</td><td>1755341786000</td></tr><tr><td>dbfs:/mnt/iotdata/silver/iot/plant=Plant_C/dt=2025-08-15/_started_5459709384608630161</td><td>_started_5459709384608630161</td><td>0</td><td>1755342032000</td></tr><tr><td>dbfs:/mnt/iotdata/silver/iot/plant=Plant_C/dt=2025-08-15/part-00000-tid-5459709384608630161-16b5cdb0-46fe-461c-8031-ad5d5471d98a-405-1.c000.snappy.parquet</td><td>part-00000-tid-5459709384608630161-16b5cdb0-46fe-461c-8031-ad5d5471d98a-405-1.c000.snappy.parquet</td><td>21066</td><td>1755342032000</td></tr></tbody></table></div>"
      ]
     },
     "metadata": {
      "application/vnd.databricks.v1+output": {
       "addedWidgets": {},
       "aggData": [],
       "aggError": "",
       "aggOverflow": false,
       "aggSchema": [],
       "aggSeriesLimitReached": false,
       "aggType": "",
       "arguments": {},
       "columnCustomDisplayInfos": {},
       "data": [
        [
         "dbfs:/mnt/iotdata/silver/iot/plant=Plant_C/dt=2025-08-15/_committed_1869934475823979280",
         "_committed_1869934475823979280",
         223,
         1755340312000
        ],
        [
         "dbfs:/mnt/iotdata/silver/iot/plant=Plant_C/dt=2025-08-15/_committed_2499514057032222283",
         "_committed_2499514057032222283",
         223,
         1755341786000
        ],
        [
         "dbfs:/mnt/iotdata/silver/iot/plant=Plant_C/dt=2025-08-15/_committed_5459709384608630161",
         "_committed_5459709384608630161",
         223,
         1755342032000
        ],
        [
         "dbfs:/mnt/iotdata/silver/iot/plant=Plant_C/dt=2025-08-15/_committed_8401774407964408766",
         "_committed_8401774407964408766",
         234,
         1755339916000
        ],
        [
         "dbfs:/mnt/iotdata/silver/iot/plant=Plant_C/dt=2025-08-15/_committed_9102331302863157054",
         "_committed_9102331302863157054",
         124,
         1755339815000
        ],
        [
         "dbfs:/mnt/iotdata/silver/iot/plant=Plant_C/dt=2025-08-15/_committed_vacuum1821132262432269882",
         "_committed_vacuum1821132262432269882",
         96,
         1755341787000
        ],
        [
         "dbfs:/mnt/iotdata/silver/iot/plant=Plant_C/dt=2025-08-15/_started_1869934475823979280",
         "_started_1869934475823979280",
         0,
         1755340312000
        ],
        [
         "dbfs:/mnt/iotdata/silver/iot/plant=Plant_C/dt=2025-08-15/_started_2499514057032222283",
         "_started_2499514057032222283",
         0,
         1755341786000
        ],
        [
         "dbfs:/mnt/iotdata/silver/iot/plant=Plant_C/dt=2025-08-15/_started_5459709384608630161",
         "_started_5459709384608630161",
         0,
         1755342032000
        ],
        [
         "dbfs:/mnt/iotdata/silver/iot/plant=Plant_C/dt=2025-08-15/part-00000-tid-5459709384608630161-16b5cdb0-46fe-461c-8031-ad5d5471d98a-405-1.c000.snappy.parquet",
         "part-00000-tid-5459709384608630161-16b5cdb0-46fe-461c-8031-ad5d5471d98a-405-1.c000.snappy.parquet",
         21066,
         1755342032000
        ]
       ],
       "datasetInfos": [],
       "dbfsResultPath": null,
       "isJsonSchema": true,
       "metadata": {},
       "overflow": false,
       "plotOptions": {
        "customPlotOptions": {},
        "displayType": "table",
        "pivotAggregation": null,
        "pivotColumns": null,
        "xColumns": null,
        "yColumns": null
       },
       "removedWidgets": [],
       "schema": [
        {
         "metadata": "{}",
         "name": "path",
         "type": "\"string\""
        },
        {
         "metadata": "{}",
         "name": "name",
         "type": "\"string\""
        },
        {
         "metadata": "{}",
         "name": "size",
         "type": "\"long\""
        },
        {
         "metadata": "{}",
         "name": "modificationTime",
         "type": "\"long\""
        }
       ],
       "type": "table"
      }
     },
     "output_type": "display_data"
    }
   ],
   "source": [
    "display(dbutils.fs.ls(\"/mnt/iotdata/silver/iot/plant=Plant_A/dt=2025-08-15/\"))\n",
    "display(dbutils.fs.ls(\"/mnt/iotdata/silver/iot/plant=Plant_B/dt=2025-08-15/\"))\n",
    "display(dbutils.fs.ls(\"/mnt/iotdata/silver/iot/plant=Plant_C/dt=2025-08-15/\"))\n"
   ]
  },
  {
   "cell_type": "code",
   "execution_count": 0,
   "metadata": {
    "application/vnd.databricks.v1+cell": {
     "cellMetadata": {
      "byteLimit": 2048000,
      "rowLimit": 10000
     },
     "inputWidgets": {},
     "nuid": "32d5f59a-bdb9-4f2e-a1ec-896b26cdc935",
     "showTitle": false,
     "tableResultSettingsMap": {},
     "title": ""
    }
   },
   "outputs": [
    {
     "output_type": "display_data",
     "data": {
      "text/html": [
       "<style scoped>\n",
       "  .table-result-container {\n",
       "    max-height: 300px;\n",
       "    overflow: auto;\n",
       "  }\n",
       "  table, th, td {\n",
       "    border: 1px solid black;\n",
       "    border-collapse: collapse;\n",
       "  }\n",
       "  th, td {\n",
       "    padding: 5px;\n",
       "  }\n",
       "  th {\n",
       "    text-align: left;\n",
       "  }\n",
       "</style><div class='table-result-container'><table class='table-result'><thead style='background-color: white'><tr><th>path</th><th>name</th><th>size</th><th>modificationTime</th></tr></thead><tbody><tr><td>dbfs:/mnt/iotdata/silver/iot_summary/dt=2025-08-15/_SUCCESS</td><td>_SUCCESS</td><td>0</td><td>1755342052000</td></tr><tr><td>dbfs:/mnt/iotdata/silver/iot_summary/dt=2025-08-15/_committed_7089461542105019580</td><td>_committed_7089461542105019580</td><td>834</td><td>1755342051000</td></tr><tr><td>dbfs:/mnt/iotdata/silver/iot_summary/dt=2025-08-15/_committed_8381044720692739310</td><td>_committed_8381044720692739310</td><td>424</td><td>1755340322000</td></tr><tr><td>dbfs:/mnt/iotdata/silver/iot_summary/dt=2025-08-15/_started_7089461542105019580</td><td>_started_7089461542105019580</td><td>0</td><td>1755342051000</td></tr><tr><td>dbfs:/mnt/iotdata/silver/iot_summary/dt=2025-08-15/_started_8381044720692739310</td><td>_started_8381044720692739310</td><td>0</td><td>1755340322000</td></tr><tr><td>dbfs:/mnt/iotdata/silver/iot_summary/dt=2025-08-15/part-00000-tid-7089461542105019580-65aa7468-33f9-40ca-b410-709384e6267d-414-1.c000.snappy.parquet</td><td>part-00000-tid-7089461542105019580-65aa7468-33f9-40ca-b410-709384e6267d-414-1.c000.snappy.parquet</td><td>897</td><td>1755342051000</td></tr><tr><td>dbfs:/mnt/iotdata/silver/iot_summary/dt=2025-08-15/part-00001-tid-7089461542105019580-65aa7468-33f9-40ca-b410-709384e6267d-415-1.c000.snappy.parquet</td><td>part-00001-tid-7089461542105019580-65aa7468-33f9-40ca-b410-709384e6267d-415-1.c000.snappy.parquet</td><td>1549</td><td>1755342051000</td></tr><tr><td>dbfs:/mnt/iotdata/silver/iot_summary/dt=2025-08-15/part-00002-tid-7089461542105019580-65aa7468-33f9-40ca-b410-709384e6267d-416-1.c000.snappy.parquet</td><td>part-00002-tid-7089461542105019580-65aa7468-33f9-40ca-b410-709384e6267d-416-1.c000.snappy.parquet</td><td>1549</td><td>1755342051000</td></tr><tr><td>dbfs:/mnt/iotdata/silver/iot_summary/dt=2025-08-15/part-00003-tid-7089461542105019580-65aa7468-33f9-40ca-b410-709384e6267d-417-1.c000.snappy.parquet</td><td>part-00003-tid-7089461542105019580-65aa7468-33f9-40ca-b410-709384e6267d-417-1.c000.snappy.parquet</td><td>1549</td><td>1755342051000</td></tr></tbody></table></div>"
      ]
     },
     "metadata": {
      "application/vnd.databricks.v1+output": {
       "addedWidgets": {},
       "aggData": [],
       "aggError": "",
       "aggOverflow": false,
       "aggSchema": [],
       "aggSeriesLimitReached": false,
       "aggType": "",
       "arguments": {},
       "columnCustomDisplayInfos": {},
       "data": [
        [
         "dbfs:/mnt/iotdata/silver/iot_summary/dt=2025-08-15/_SUCCESS",
         "_SUCCESS",
         0,
         1755342052000
        ],
        [
         "dbfs:/mnt/iotdata/silver/iot_summary/dt=2025-08-15/_committed_7089461542105019580",
         "_committed_7089461542105019580",
         834,
         1755342051000
        ],
        [
         "dbfs:/mnt/iotdata/silver/iot_summary/dt=2025-08-15/_committed_8381044720692739310",
         "_committed_8381044720692739310",
         424,
         1755340322000
        ],
        [
         "dbfs:/mnt/iotdata/silver/iot_summary/dt=2025-08-15/_started_7089461542105019580",
         "_started_7089461542105019580",
         0,
         1755342051000
        ],
        [
         "dbfs:/mnt/iotdata/silver/iot_summary/dt=2025-08-15/_started_8381044720692739310",
         "_started_8381044720692739310",
         0,
         1755340322000
        ],
        [
         "dbfs:/mnt/iotdata/silver/iot_summary/dt=2025-08-15/part-00000-tid-7089461542105019580-65aa7468-33f9-40ca-b410-709384e6267d-414-1.c000.snappy.parquet",
         "part-00000-tid-7089461542105019580-65aa7468-33f9-40ca-b410-709384e6267d-414-1.c000.snappy.parquet",
         897,
         1755342051000
        ],
        [
         "dbfs:/mnt/iotdata/silver/iot_summary/dt=2025-08-15/part-00001-tid-7089461542105019580-65aa7468-33f9-40ca-b410-709384e6267d-415-1.c000.snappy.parquet",
         "part-00001-tid-7089461542105019580-65aa7468-33f9-40ca-b410-709384e6267d-415-1.c000.snappy.parquet",
         1549,
         1755342051000
        ],
        [
         "dbfs:/mnt/iotdata/silver/iot_summary/dt=2025-08-15/part-00002-tid-7089461542105019580-65aa7468-33f9-40ca-b410-709384e6267d-416-1.c000.snappy.parquet",
         "part-00002-tid-7089461542105019580-65aa7468-33f9-40ca-b410-709384e6267d-416-1.c000.snappy.parquet",
         1549,
         1755342051000
        ],
        [
         "dbfs:/mnt/iotdata/silver/iot_summary/dt=2025-08-15/part-00003-tid-7089461542105019580-65aa7468-33f9-40ca-b410-709384e6267d-417-1.c000.snappy.parquet",
         "part-00003-tid-7089461542105019580-65aa7468-33f9-40ca-b410-709384e6267d-417-1.c000.snappy.parquet",
         1549,
         1755342051000
        ]
       ],
       "datasetInfos": [],
       "dbfsResultPath": null,
       "isJsonSchema": true,
       "metadata": {},
       "overflow": false,
       "plotOptions": {
        "customPlotOptions": {},
        "displayType": "table",
        "pivotAggregation": null,
        "pivotColumns": null,
        "xColumns": null,
        "yColumns": null
       },
       "removedWidgets": [],
       "schema": [
        {
         "metadata": "{}",
         "name": "path",
         "type": "\"string\""
        },
        {
         "metadata": "{}",
         "name": "name",
         "type": "\"string\""
        },
        {
         "metadata": "{}",
         "name": "size",
         "type": "\"long\""
        },
        {
         "metadata": "{}",
         "name": "modificationTime",
         "type": "\"long\""
        }
       ],
       "type": "table"
      }
     },
     "output_type": "display_data"
    }
   ],
   "source": [
    "display(dbutils.fs.ls(\"/mnt/iotdata/silver/iot_summary/dt=2025-08-15/\"))\n"
   ]
  }
 ],
 "metadata": {
  "application/vnd.databricks.v1+notebook": {
   "computePreferences": null,
   "dashboards": [],
   "environmentMetadata": {
    "base_environment": "",
    "environment_version": "2"
   },
   "inputWidgetPreferences": null,
   "language": "python",
   "notebookMetadata": {
    "pythonIndentUnit": 4
   },
   "notebookName": "Master_Orchestration_ETL Notebook",
   "widgets": {}
  },
  "language_info": {
   "name": "python"
  }
 },
 "nbformat": 4,
 "nbformat_minor": 0
}